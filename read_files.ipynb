{
 "cells": [
  {
   "cell_type": "code",
   "execution_count": 1,
   "metadata": {},
   "outputs": [
    {
     "name": "stdout",
     "output_type": "stream",
     "text": [
      "\u001b[34mConnecting to --port=/dev/ttyUSB0 --baud=115200 \u001b[0m\n",
      "\u001b[34mReady.\n",
      "\u001b[0m"
     ]
    }
   ],
   "source": [
    "%serialconnect --port '/dev/ttyUSB0' --baud 115200"
   ]
  },
  {
   "cell_type": "code",
   "execution_count": 2,
   "metadata": {},
   "outputs": [],
   "source": [
    "import uos"
   ]
  },
  {
   "cell_type": "markdown",
   "metadata": {},
   "source": [
    "## Read all Files on the System"
   ]
  },
  {
   "cell_type": "code",
   "execution_count": 3,
   "metadata": {},
   "outputs": [],
   "source": [
    "def view_files(dir_name = ''):\n",
    "    \n",
    "    file_names = uos.listdir()\n",
    "    \n",
    "    for file in file_names:\n",
    "        print('\\n##########', file, '#########')\n",
    "        f = open(file)\n",
    "        print(f.read())\n",
    "        f.close()"
   ]
  },
  {
   "cell_type": "code",
   "execution_count": 4,
   "metadata": {},
   "outputs": [
    {
     "name": "stdout",
     "output_type": "stream",
     "text": [
      "\n",
      "########## boot.py #########\n",
      "import gc\n",
      "import network\n",
      "sta_if = network.WLAN(network.STA_IF) # initialize stationary mode\n",
      "if not sta_if.isconnected():\n",
      "  sta_if.active(True) # activate sta mode\n",
      "  sta_if.connect('Bill Wi The Science Fi', 'kallbacken') # connect to wifi\n",
      "  while not sta_if.isconnected():\n",
      "    pass\n",
      "print(sta_if.ifconfig())\n",
      "gc.collect()\n",
      "\n"
     ]
    }
   ],
   "source": [
    "view_files()"
   ]
  }
 ],
 "metadata": {
  "kernelspec": {
   "display_name": "MicroPython - USB",
   "language": "micropython",
   "name": "micropython"
  },
  "language_info": {
   "codemirror_mode": "python",
   "file_extension": ".py",
   "mimetype": "text/python",
   "name": "micropython"
  }
 },
 "nbformat": 4,
 "nbformat_minor": 2
}
